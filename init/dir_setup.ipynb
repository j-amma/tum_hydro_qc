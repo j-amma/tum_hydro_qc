{
 "cells": [
  {
   "cell_type": "markdown",
   "id": "0225d364",
   "metadata": {},
   "source": [
    "# Postprocessing Directory Setup \n",
    "\n",
    "This notebook populates the working directory with the correct subdirectories and **should be run once at the beginning of the project**. This expedites creating direcotries with similar structure, organizes the notebooks and data in a sensible way, and adds a layer of consistency. Once the directories have been created and the input data has been standardized, the analyst may simply copy and modify the template notebooks and place them in the correct directory to proceed with the analysis while remaining organized.\n",
    "\n",
    "In particular, this notebook creates\n",
    "1. One directory for every year of unvented data, notebooks, and logs --> /unvented_YYYY\n",
    "2. One dirctory for unvented data, notebooks, and logs --> /vented\n",
    "3. One directory for previously compiled or published data --> /compiled_data\n",
    "4. One directory for rating curve notebooks --> /ratingcurve\n",
    "5. One directory for notebooks and data used to create the stitched discharge time series --> /stitch_discharge\n",
    "\n",
    "Author of Template and Underlying Code: Joe Ammatelli | (jamma@uw.edu) | July 2022"
   ]
  },
  {
   "cell_type": "markdown",
   "id": "1147743e",
   "metadata": {},
   "source": [
    "## Import Relevant Libraries\n",
    "**Analyst TODO**: Nothing"
   ]
  },
  {
   "cell_type": "code",
   "execution_count": 7,
   "id": "9643ec6f",
   "metadata": {},
   "outputs": [],
   "source": [
    "import numpy as np\n",
    "import os\n",
    "import sys\n",
    "\n",
    "sys.path.insert(0, os.path.abspath(os.path.join('..', 'src')))\n",
    "\n",
    "import config\n",
    "\n",
    "sys.path.remove(os.path.abspath(os.path.join('..', 'src')))"
   ]
  },
  {
   "cell_type": "markdown",
   "id": "35ec0fc2",
   "metadata": {},
   "source": [
    "## Specify Data Years\n",
    "**Analyst TODO**: \n",
    "* assign an integer (format 'YYYY') representing the first year of data collection to `start_year`\n",
    "* assign an integer (format 'YYYY') representing the last year of data collection to `end_year`\n",
    "\n",
    "Note: if just processing one year, assign `None` or `start_year` to `end_year`"
   ]
  },
  {
   "cell_type": "code",
   "execution_count": null,
   "id": "88587362",
   "metadata": {},
   "outputs": [],
   "source": [
    "# TODO: specify start and end year of postprocesing\n",
    "# example\n",
    "# start_year = 2019\n",
    "# end_year = 2021\n",
    "\n",
    "start_year = 1234\n",
    "end_year = 1234"
   ]
  },
  {
   "cell_type": "code",
   "execution_count": null,
   "id": "b2dee1c4",
   "metadata": {},
   "outputs": [],
   "source": [
    "# creates list of all years of data\n",
    "years = None\n",
    "if (end_year is None):\n",
    "    years = [str(start_year)]\n",
    "else:\n",
    "    years = np.arange(start_year, end_year + 1)\n",
    "    years = [str(year) for year in years]\n",
    "years"
   ]
  },
  {
   "cell_type": "markdown",
   "id": "95af0551",
   "metadata": {},
   "source": [
    "## Create directory for each year of unvented data, notebooks, and logs\n",
    "\n",
    "**Analyst TODO**: Nothing"
   ]
  },
  {
   "cell_type": "code",
   "execution_count": null,
   "id": "be2af519",
   "metadata": {},
   "outputs": [],
   "source": [
    "for year in years:    \n",
    "    loc_year_dir_path = os.path.join('..', f'unvented_{year}')\n",
    "    if not os.path.exists(loc_year_dir_path):\n",
    "        os.mkdir(loc_year_dir_path)\n",
    "        os.mkdir(os.path.join(loc_year_dir_path, 'data'))\n",
    "        os.mkdir(os.path.join(loc_year_dir_path, 'notebooks'))\n",
    "        os.mkdir(os.path.join(loc_year_dir_path, 'logs'))"
   ]
  },
  {
   "cell_type": "markdown",
   "id": "bd4a531e",
   "metadata": {},
   "source": [
    "## Create directory for vented data, notebooks, and logs\n",
    "\n",
    "**Analyst TODO**: Nothing"
   ]
  },
  {
   "cell_type": "code",
   "execution_count": null,
   "id": "02758e4a",
   "metadata": {},
   "outputs": [],
   "source": [
    "loc_vented_dir_path = os.path.join('..', f'vented')\n",
    "if not os.path.exists(loc_vented_dir_path):\n",
    "    os.mkdir(loc_vented_dir_path)\n",
    "    os.mkdir(os.path.join(loc_vented_dir_path, 'data'))\n",
    "    os.mkdir(os.path.join(loc_vented_dir_path, 'notebooks'))\n",
    "    os.mkdir(os.path.join(loc_vented_dir_path, 'logs'))"
   ]
  },
  {
   "cell_type": "markdown",
   "id": "eeb378de",
   "metadata": {},
   "source": [
    "## Create directory for previously compiled or published data\n",
    "\n",
    "**Analyst TODO**: Nothing"
   ]
  },
  {
   "cell_type": "code",
   "execution_count": null,
   "id": "5511006c",
   "metadata": {},
   "outputs": [],
   "source": [
    "data_path = os.path.join('..', f'compiled_data')\n",
    "if not os.path.exists(data_path):\n",
    "    os.mkdir(data_path)\n",
    "    os.mkdir(os.path.join(data_path, 'published'))\n",
    "    os.mkdir(os.path.join(data_path, 'stage'))\n",
    "    os.mkdir(os.path.join(data_path, 'stageQ'))"
   ]
  },
  {
   "cell_type": "markdown",
   "id": "7309b51d",
   "metadata": {},
   "source": [
    "## Create directory for rating curve notebooks\n",
    "\n",
    "**Analyst TODO**: Nothing"
   ]
  },
  {
   "cell_type": "code",
   "execution_count": null,
   "id": "b3e3722c",
   "metadata": {},
   "outputs": [],
   "source": [
    "ratingcurve_path = os.path.join('..', f'ratingcurve')\n",
    "if not os.path.exists(ratingcurve_path):\n",
    "    os.mkdir(ratingcurve_path)"
   ]
  },
  {
   "cell_type": "markdown",
   "id": "2aa5f7b5",
   "metadata": {},
   "source": [
    "## Create dirctory for final discharge time series data and notebooks\n",
    "\n",
    "**Analyst TODO**: Nothing"
   ]
  },
  {
   "cell_type": "code",
   "execution_count": null,
   "id": "6fbb9775",
   "metadata": {},
   "outputs": [],
   "source": [
    "discharge_path = os.path.join('..', f'output')\n",
    "if not os.path.exists(discharge_path):\n",
    "    os.mkdir(discharge_path)\n",
    "    os.mkdir(os.path.join(discharge_path, 'data'))\n",
    "    os.mkdir(os.path.join(discharge_path, 'metadata'))\n",
    "    os.mkdir(os.path.join(discharge_path, 'notebooks'))\n",
    "    "
   ]
  }
 ],
 "metadata": {
  "kernelspec": {
   "display_name": "Python 3",
   "language": "python",
   "name": "python3"
  },
  "language_info": {
   "codemirror_mode": {
    "name": "ipython",
    "version": 3
   },
   "file_extension": ".py",
   "mimetype": "text/x-python",
   "name": "python",
   "nbconvert_exporter": "python",
   "pygments_lexer": "ipython3",
   "version": "3.9.5"
  }
 },
 "nbformat": 4,
 "nbformat_minor": 5
}
