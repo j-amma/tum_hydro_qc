{
 "cells": [
  {
   "cell_type": "markdown",
   "id": "108f0692",
   "metadata": {},
   "source": [
    "# [YEAR] Barometric Pressure Data Preparation\n",
    "ANALYST NAME | DATE\n",
    "\n",
    "This notebook facilitates preparation of the barometric pressure time series used for compensating the unvented Levelogger time series.\n",
    "\n",
    "When possible, the analyst will first inspect available Barologger time series. In order to use the Barologger time series for the compensation step, there should be no obvious erroneous segments in the time series and, for the sake of consistency when completing the subsequent Levelogger post-processing, the time series must span the Levelogger time series for all sites. That is, the first Barologger data point must be before the first Levelogger data point (across all sites) and the last Barologger data point must be after the last Levelogger data point (for all sites.\n",
    "\n",
    "If no such Barologger time series exists, a different baromertric time series should be used. This notebook shows how to use NCAR reanalysis data to get a time series for surface pressure.\n",
    "\n",
    "Once all steps have been completed, a barometric pressure time series will be ready to load for the compensation step."
   ]
  },
  {
   "cell_type": "markdown",
   "id": "14483e8e",
   "metadata": {},
   "source": [
    "## Import Relevant Libraries\n",
    "**Analyst TODO**: Nothing"
   ]
  },
  {
   "cell_type": "code",
   "execution_count": null,
   "id": "a4955258",
   "metadata": {},
   "outputs": [],
   "source": [
    "import numpy as np\n",
    "import pandas as pd\n",
    "import matplotlib.pyplot as plt\n",
    "import xarray as xr\n",
    "import netCDF4\n",
    "import sys\n",
    "import os\n",
    "\n",
    "sys.path.insert(0, os.path.abspath(os.path.join('..', '..', 'src')))\n",
    "\n",
    "import config\n",
    "import level_baro_utils\n",
    "\n",
    "sys.path.remove(os.path.abspath(os.path.join('..', '..', 'src')))"
   ]
  },
  {
   "cell_type": "markdown",
   "id": "a47c0e35",
   "metadata": {},
   "source": [
    "## Inspect Available Barologger Data\n",
    "**Analyst TODO**: Inspect each available Barologger time series\n",
    "* assign a string (format 'YYYY') representing the collection year of the data to the variable `collection_year`\n",
    "* assign a string (format 'YY/YY') representing the span in years of the data to the variable `span`\n",
    "\n",
    "Then, for each available time series\n",
    "1. create a new Markdown cell, label ### Baro Sample X, where X is the sample number\n",
    "2. make a copy of the code cell containing the site information and call to the `inspect_baro` function\n",
    "3. assign a string representing the short name of the site to the variable `sitename_short`. Note, this is the name of the site contained in the filename (no spaces, may have abbreviations)\n",
    "4. assign a string representing the long name of the site to the variable `long_short`. Note, this is the more \"readable\" name of the site (spaces, no abbreviations) used for plotting\n",
    "5. Run the code cell, inspect the plot, and verify the time series spans all Levelogger time series. That is, the first Barologger data point must be before the first Levelogger data point (across all sites) and the last Barologger data point must be after the last Levelogger data point (for all sites.\n",
    "\n",
    "If no valid Barologger time series exists, move on the next section: Prepare NCAR Reanalysis Pressure Data as Needed"
   ]
  },
  {
   "cell_type": "code",
   "execution_count": null,
   "id": "704de4a1",
   "metadata": {},
   "outputs": [],
   "source": [
    "def inspect_baro(sitename_short, sitename_long, site_info):\n",
    "    baro_path = os.path.join('..', 'data', 'normalized_raw', f'baro_{sitename_short}_{collection_year}.csv')\n",
    "\n",
    "    baro_df = level_baro_utils.load_normalized_solinst_data(baro_path)\n",
    "    level_baro_utils.plot_solinst_pressure_temp(baro_df, site_info, sensor_type='baro')\n",
    "\n",
    "    start_date = baro_df.index[0]\n",
    "    end_date = baro_df.index[-1]\n",
    "\n",
    "    print(f'Time Series Start: {start_date}')\n",
    "    print(f'Time Series End: {end_date}')\n",
    "    \n",
    "    return baro_df"
   ]
  },
  {
   "cell_type": "code",
   "execution_count": null,
   "id": "b83a11f8",
   "metadata": {},
   "outputs": [],
   "source": [
    "# TODO: specift collection year and span\n",
    "# e.g.\n",
    "# collection_year = '2019'\n",
    "# span = '18/19'\n",
    "\n",
    "collection_year = ''\n",
    "span = ''"
   ]
  },
  {
   "cell_type": "markdown",
   "id": "6f47d488",
   "metadata": {},
   "source": [
    "### Baro Sample 1"
   ]
  },
  {
   "cell_type": "code",
   "execution_count": null,
   "id": "6cb54fbe",
   "metadata": {},
   "outputs": [],
   "source": [
    "# TODO: copy this code cell for each sample\n",
    "# e.g.\n",
    "# sitename_short = 'ConnessCrk'\n",
    "# sitename_long = 'Conness Creek'\n",
    "\n",
    "sitename_short = ''\n",
    "sitename_long = ''\n",
    "site_info = {'sitecode':-1,\n",
    "             'site':sitename_long,\n",
    "             'collection_year':collection_year,\n",
    "             'span':span}\n",
    "\n",
    "baro_sample1_df = inspect_baro(sitename_short, sitename_long, site_info)"
   ]
  },
  {
   "cell_type": "markdown",
   "id": "7f234cb6",
   "metadata": {},
   "source": [
    "## Prepare NCAR Reanalysis Pressure Data as Needed\n",
    "**Analyst TODO**: \n",
    "\n",
    "For previous analysis, we used NCEP-NCAR Reanalysis data (https://psl.noaa.gov/data/gridded/data.ncep.reanalysis.html). If using another data source, the workflow provided below may need to be tweaked. \n",
    "\n",
    "Begin by downloading data for 3 variables: surface pressure, surface temperature, and geopotential height. Choose the time series with highest temporal resolution (for NCEP_NCAR Reanalysis, 4x daily). Since the levelogger data spans two calendar years, download the complete reanalysis time series for both years of interest. Create a new subdirectory in the /data directory called /ncar_reanalysis, and move the downloaded files to this directory."
   ]
  },
  {
   "cell_type": "markdown",
   "id": "d26482a9",
   "metadata": {},
   "source": [
    "### Load Data\n",
    "**Analyst TODO**: Replace the bracketed segments of the paths with the correct file name."
   ]
  },
  {
   "cell_type": "code",
   "execution_count": null,
   "id": "cbe3902a",
   "metadata": {},
   "outputs": [],
   "source": [
    "# surface pressure\n",
    "p1_path = '../data/ncar_reanalysis/[PRESSURE_FILENAME]'\n",
    "p2_path = '../data/ncar_reanalysis/[PRESSURE_FILENAME]'\n",
    "\n",
    "# surface temperature (all lat/lon)\n",
    "st1_path = '../data/ncar_reanalysis/[SURFACETEMP_FILENAME]'\n",
    "st2_path = '../data/ncar_reanalysis/[SURFACETEMP_FILENAME]'\n",
    "\n",
    "# height\n",
    "hgt_path = '../data/ncar_reanalysis/[HEIGHT_FILENAME]'"
   ]
  },
  {
   "cell_type": "code",
   "execution_count": null,
   "id": "91bed0e9",
   "metadata": {},
   "outputs": [],
   "source": [
    "p1_global_ds = xr.open_dataset(p1_path)\n",
    "p2_global_ds = xr.open_dataset(p2_path)\n",
    "\n",
    "st1_global_ds = xr.open_dataset(st1_path)\n",
    "st2_global_ds = xr.open_dataset(st2_path)\n",
    "\n",
    "hgt_ds = xr.open_dataset(hgt_path)"
   ]
  },
  {
   "cell_type": "markdown",
   "id": "d87e2653",
   "metadata": {},
   "source": [
    "### Isolate Desired Lat Long\n",
    "**Analyst TODO**: Nothing"
   ]
  },
  {
   "cell_type": "code",
   "execution_count": null,
   "id": "488d6eca",
   "metadata": {},
   "outputs": [],
   "source": [
    "p1 = p1_global_ds.pres.sel(lat=config.NCAR_TUM_LAT, lon=config.NCAR_TUM_LON)\n",
    "p2 = p2_global_ds.pres.sel(lat=config.NCAR_TUM_LAT, lon=config.NCAR_TUM_LON)\n",
    "\n",
    "st1 = st1_global_ds.air.sel(lat=config.NCAR_TUM_LAT, lon=config.NCAR_TUM_LON)\n",
    "st2 = st2_global_ds.air.sel(lat=config.NCAR_TUM_LAT, lon=config.NCAR_TUM_LON)\n",
    "\n",
    "hgt = hgt_ds.hgt.sel(lat=config.NCAR_TUM_LAT, lon=config.NCAR_TUM_LON)"
   ]
  },
  {
   "cell_type": "markdown",
   "id": "44c84fae",
   "metadata": {},
   "source": [
    "### Merge Each Time Dependent Variable into Single Time Series\n",
    "**Analyst TODO**: Inspect the side by side and merged time series plots. Verify everything looks reasonable."
   ]
  },
  {
   "cell_type": "markdown",
   "id": "1318e93a",
   "metadata": {},
   "source": [
    "#### Pressure"
   ]
  },
  {
   "cell_type": "code",
   "execution_count": null,
   "id": "323bbd26",
   "metadata": {},
   "outputs": [],
   "source": [
    "p1.plot()\n",
    "p2.plot()"
   ]
  },
  {
   "cell_type": "code",
   "execution_count": null,
   "id": "e0155534",
   "metadata": {},
   "outputs": [],
   "source": [
    "p1p2 = xr.merge([p1, p2])\n",
    "p1p2.pres"
   ]
  },
  {
   "cell_type": "code",
   "execution_count": null,
   "id": "b39544d7",
   "metadata": {},
   "outputs": [],
   "source": [
    "p1p2.pres.plot()\n",
    "plt.ylabel('Pascals')"
   ]
  },
  {
   "cell_type": "markdown",
   "id": "b1c7f0a3",
   "metadata": {},
   "source": [
    "#### Air Temp"
   ]
  },
  {
   "cell_type": "code",
   "execution_count": null,
   "id": "3c426492",
   "metadata": {},
   "outputs": [],
   "source": [
    "st1.plot()\n",
    "st2.plot()"
   ]
  },
  {
   "cell_type": "code",
   "execution_count": null,
   "id": "577560c2",
   "metadata": {},
   "outputs": [],
   "source": [
    "st1st2 = xr.merge([st1, st2])"
   ]
  },
  {
   "cell_type": "code",
   "execution_count": null,
   "id": "b0d3f548",
   "metadata": {},
   "outputs": [],
   "source": [
    "st1st2.air.plot()\n",
    "plt.ylabel('K')"
   ]
  },
  {
   "cell_type": "markdown",
   "id": "f2b7f7de",
   "metadata": {},
   "source": [
    "### Use Hypsometric Equation to Solve for Pressure at Tuolumne Elevation\n",
    "Here we apply the hypsometric equation using the surface pressure, surface temperature, and geopotential height (the height of the surface) to compute the surface pressure for Tuolumne's elevation. Note that we approximate the virtual temperature with the actual temperature and the surface elevation with the geopotential height. We also assume a lapse rate of -6.5 C/km to compute the temperature in the middle of the column.\n",
    "\n",
    "**Analyst TODO**: Nothing"
   ]
  },
  {
   "cell_type": "code",
   "execution_count": null,
   "id": "3ba0c7bd",
   "metadata": {},
   "outputs": [],
   "source": [
    "h_tum = config.TUM_ELEVATION  # h2, m\n",
    "h_pixel = hgt.values[0]  # h1, m\n",
    "h = h_tum - h_pixel  # h2 - h1, m\n",
    "R = 287.052874  # specific gas constant for dry air, J K^-1 kg^-1\n",
    "g = 9.80665  # m / s^2\n",
    "P1 = p1p2\n",
    "lapse_rate = -6.5 # C/km\n",
    "T = st1st2.air + (lapse_rate * (h / 10**3) / 2)\n",
    "\n",
    "P2 = P1 * np.exp((-1 * h * g) / (R * T))\n",
    "\n",
    "P2"
   ]
  },
  {
   "cell_type": "markdown",
   "id": "929cec1d",
   "metadata": {},
   "source": [
    "### Convert from PA to cm H2O\n",
    "**Analyst TODO**: Nothing"
   ]
  },
  {
   "cell_type": "code",
   "execution_count": null,
   "id": "5e8e439b",
   "metadata": {},
   "outputs": [],
   "source": [
    "P2 *= level_baro_utils.PA_TO_CM"
   ]
  },
  {
   "cell_type": "markdown",
   "id": "0b1b71ae",
   "metadata": {},
   "source": [
    "### Inspect\n",
    "**Analyst TODO**: Inspect the output plot. The pressure should be on the order of 700-800 cm H2O"
   ]
  },
  {
   "cell_type": "code",
   "execution_count": null,
   "id": "fc99353e",
   "metadata": {},
   "outputs": [],
   "source": [
    "P2.pres.plot()"
   ]
  },
  {
   "cell_type": "markdown",
   "id": "69d98db1",
   "metadata": {},
   "source": [
    "### Compare to Barologger Data\n",
    "**Analyst TODO**: Plot available any available Barologger data together with the reanalysis data. Verify the time series resemble one another. "
   ]
  },
  {
   "cell_type": "code",
   "execution_count": null,
   "id": "b682b1f6",
   "metadata": {},
   "outputs": [],
   "source": [
    "P2.pres.plot()\n",
    "\n",
    "# TODO: choose desired baro sample, if available\n",
    "# e.g.\n",
    "# baro_sample1_df['baro_cm'].plot()"
   ]
  },
  {
   "cell_type": "markdown",
   "id": "55353a84",
   "metadata": {},
   "source": [
    "### Save Data\n",
    "**Analyst TODO**: Nothing"
   ]
  },
  {
   "cell_type": "code",
   "execution_count": null,
   "id": "f52bf3d6",
   "metadata": {},
   "outputs": [],
   "source": [
    "P2.to_netcdf(f'../data/ncar_reanalysis/hypso_pres.sfc.{span}.nc')"
   ]
  }
 ],
 "metadata": {
  "kernelspec": {
   "display_name": "Python 3",
   "language": "python",
   "name": "python3"
  },
  "language_info": {
   "codemirror_mode": {
    "name": "ipython",
    "version": 3
   },
   "file_extension": ".py",
   "mimetype": "text/x-python",
   "name": "python",
   "nbconvert_exporter": "python",
   "pygments_lexer": "ipython3",
   "version": "3.9.5"
  }
 },
 "nbformat": 4,
 "nbformat_minor": 5
}
